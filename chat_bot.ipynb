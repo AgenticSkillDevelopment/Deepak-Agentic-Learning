{
 "cells": [
  {
   "cell_type": "code",
   "execution_count": 1,
   "id": "8ae9ea72",
   "metadata": {},
   "outputs": [
    {
     "name": "stdout",
     "output_type": "stream",
     "text": [
      "Published: 2022-08-01\n",
      "Title: The Rise of Quantum Internet Computing\n",
      "Authors: Seng W. Loke\n",
      "Summary: This article highlights quantum Internet computing as referring to\n",
      "distributed quantum computing over the quantum Internet, analogous to\n",
      "(classical) Internet computing involving (classical) distributed computing over\n",
      "the (classical) Internet. Relevant to quantum Internet computing would be areas\n",
      "of study such as quantum protocols for distributed nodes using quantum\n",
      "information for computations, quantum cloud computing, delegated verifiable\n",
      "blind or private computing, non-local gates, and distributed quantum\n",
      "applications, over Internet-scale distances.\n",
      "\n",
      "Published: 2000-03-31\n",
      "Title: Unconventional Quantum Computing Devices\n",
      "Authors: Seth Lloyd\n",
      "Summary: This paper investigates a variety of unconventional quantum computation\n",
      "devices, including fermionic quantum computers and computers that exploit\n",
      "nonlinear quantum mechanics. It is shown that unconventional quantum computing\n",
      "devices can in pri\n",
      "Page: Quantum computing\n",
      "Summary: A quantum computer is a computer that exploits quantum mechanical phenomena. On small scales, physical matter exhibits properties of both particles and waves, and quantum computing takes advantage of this behavior using specialized hardware. Classical physics cannot explain the operation of these quantum devices, and a scalable quantum computer could perform some calculations exponentially faster than any modern \"classical\" computer. Theoretically a large-scale quantum computer could break some widely used encryption schemes and aid physicists in performing phy\n"
     ]
    }
   ],
   "source": [
    "from langchain_community.tools import ArxivQueryRun, WikipediaQueryRun\n",
    "from langchain_community.utilities import ArxivAPIWrapper, WikipediaAPIWrapper\n",
    "\n",
    "# Creating Tools\n",
    "api_wrapper_arxiv = ArxivAPIWrapper(top_k_results=2, doc_content_chars_max=1000)\n",
    "arxiv =  ArxivQueryRun(api_wrapper=api_wrapper_arxiv, description=\"Search for academic papers on arXiv.org\")\n",
    "\n",
    "api_wrapper_wikipedia = WikipediaAPIWrapper(top_k_results=2, doc_content_chars_max=600)\n",
    "wikipedia = WikipediaQueryRun(api_wrapper=api_wrapper_wikipedia, description=\"Search for articles on Wikipedia.org\")\n",
    "\n",
    "print(arxiv.invoke(\"Quantum Computing\"))\n",
    "print(wikipedia.invoke(\"Quantum Computing\"))"
   ]
  },
  {
   "cell_type": "code",
   "execution_count": 2,
   "id": "7be4633d",
   "metadata": {},
   "outputs": [
    {
     "name": "stderr",
     "output_type": "stream",
     "text": [
      "/tmp/ipykernel_228286/1365296032.py:9: LangChainDeprecationWarning: The class `TavilySearchResults` was deprecated in LangChain 0.3.25 and will be removed in 1.0. An updated version of the class exists in the :class:`~langchain-tavily package and should be used instead. To use it run `pip install -U :class:`~langchain-tavily` and import as `from :class:`~langchain_tavily import TavilySearch``.\n",
      "  tavily = TavilySearchResults()\n"
     ]
    },
    {
     "name": "stdout",
     "output_type": "stream",
     "text": [
      "[{'title': 'Artificial Intelligence News - ScienceDaily', 'url': 'https://www.sciencedaily.com/news/computers_math/artificial_intelligence/', 'content': '![ScienceDaily](/images/sd-logo.png)\\n\\n# Artificial Intelligence News\\n\\n## Top Headlines\\n\\n## Latest Headlines\\n\\n## Earlier Headlines\\n\\n### Thursday, May 15, 2025\\n\\n### Wednesday, May 14, 2025\\n\\n### Tuesday, May 13, 2025\\n\\n### Monday, May 12, 2025\\n\\n### Thursday, May 8, 2025\\n\\n### Wednesday, May 7, 2025\\n\\n### Tuesday, May 6, 2025\\n\\n### Monday, May 5, 2025\\n\\n### Thursday, May 1, 2025\\n\\n### Wednesday, April 30, 2025\\n\\n### Monday, April 28, 2025\\n\\n### Friday, April 25, 2025\\n\\n### Thursday, April 24, 2025 [...] ### Wednesday, April 23, 2025\\n\\n### Tuesday, April 22, 2025\\n\\n### Monday, April 21, 2025\\n\\n### Wednesday, April 16, 2025\\n\\n### Tuesday, April 15, 2025\\n\\n### Monday, April 14, 2025\\n\\n### Thursday, April 10, 2025\\n\\n### Wednesday, April 9, 2025\\n\\n### Tuesday, April 8, 2025\\n\\n### Monday, April 7, 2025\\n\\n### Friday, April 4, 2025\\n\\n### Thursday, April 3, 2025\\n\\n### Wednesday, April 2, 2025\\n\\n### Monday, March 31, 2025\\n\\n### Friday, March 28, 2025\\n\\n### Thursday, March 27, 2025\\n\\n### Wednesday, March 26, 2025 [...] ### Tuesday, March 25, 2025\\n\\n### Thursday, March 20, 2025\\n\\n### Wednesday, March 19, 2025\\n\\n### Tuesday, March 18, 2025\\n\\n### Monday, March 17, 2025\\n\\n### Friday, March 14, 2025\\n\\n### Thursday, March 13, 2025\\n\\n### Tuesday, March 11, 2025\\n\\n### Monday, March 10, 2025\\n\\n### Friday, March 7, 2025\\n\\n### Thursday, March 6, 2025\\n\\n## [Breaking](/breaking/)\\n\\n## Trending Topics\\n\\n## Strange & Offbeat', 'score': 0.6768127}, {'title': 'AI News & Artificial Intelligence - TechCrunch', 'url': 'https://techcrunch.com/category/artificial-intelligence/', 'content': '### [Pope Leo makes AI’s threat to humanity a signature issue](https://techcrunch.com/2025/06/18/pope-leo-makes-ais-threat-to-humanity-a-signature-issue/)\\n\\n![Cluely founder Roy Lee party invitation video](https://techcrunch.com/wp-content/uploads/2025/06/Cluely-party-video.png?w=583)\\n\\n### [Police shut down Cluely’s party, the ‘cheat at everything’ startup](https://techcrunch.com/2025/06/17/police-shut-down-cluelys-party-the-cheat-at-everything-startup/) [...] ### [Sequoia-backed Crosby launches a new kind of AI-powered law firm](https://techcrunch.com/2025/06/17/sequoia-backed-crosby-launches-a-new-kind-of-ai-powered-law-firm/)\\n\\n![Microsoft CEO Satya Nadella speaks during the OpenAI DevDay event on November 06, 2023 in San Francisco, California.](https://techcrunch.com/wp-content/uploads/2023/11/GettyImages-1778706501.jpg?w=666) [...] ### [Intel to lay off up to 20% of Intel Foundry workers](https://techcrunch.com/2025/06/17/intel-to-layoff-up-to-20-of-intel-foundry-workers/)\\n\\n![AI robot face and programming code on a black background.](https://techcrunch.com/wp-content/uploads/2025/02/GettyImages-1356382582.jpg?w=563)\\n\\n### [Anysphere launches a $200-a-month Cursor AI coding subscription](https://techcrunch.com/2025/06/17/anysphere-launches-a-200-a-month-cursor-ai-coding-subscription/)', 'score': 0.63615024}, {'title': 'AI News | Latest AI News, Analysis & Events', 'url': 'https://www.artificialintelligence-news.com/', 'content': 'AI News reports on the latest artificial intelligence news and insights. Explore industry trends from the frontline of AI.', 'score': 0.61779}, {'title': 'Artificial Intelligence - Latest AI News and Analysis - WSJ.com', 'url': 'https://www.wsj.com/tech/ai?gaa_at=eafs&gaa_n=ASWzDAjESoJ0CfbX0sLtgJt1ALSHEOH3iXeYVd7CxvAtOLWJ_78yKfSMIYNJ&gaa_ts=6853e394&gaa_sig=z3mpHzrjz5MSaap5vkNm9Y6Fnwik7zuiytoYwDyGZkE2U4k43LoDulY1Lk3gbxp6bWGD9AthcTZLFdn-xDG9wQ%3D%3D', 'content': 'The latest artificial intelligence news coverage focusing on the technology, tools and the companies building AI technology.', 'score': 0.604703}, {'title': 'Artificial Intelligence | Latest News, Photos & Videos - WIRED', 'url': 'https://www.wired.com/tag/artificial-intelligence/', 'content': '### Facing a Changing Industry, AI Activists Rethink Their Strategy\\n\\n![Demis Hassabis Embraces the Future of Work in the Age of AI](https://media.wired.com/photos/683e039d7fcbfb59910b6706/3:2/w_1280%2Cc_limit/DSC09515.jpg)\\n\\n### Demis Hassabis Embraces the Future of Work in the Age of AI\\n\\n### Deepfake Scams Are Distorting Reality Itself\\n\\n![The Rise of ‘Vibe Hacking’ Is the Next AI Nightmare](https://media.wired.com/photos/683dde00bb81c8212495c31b/3:2/w_1280%2Cc_limit/WIRED%2520STILL%252002.png) [...] ### AI Chatbots Are Making LA Protest Disinformation Worse\\n\\n![A Political Battle Is Brewing Over Data Centers](https://media.wired.com/photos/684036ef4c253f09088b983a/3:2/w_1280%2Cc_limit/GettyImages-2213382270.jpg)\\n\\n### A Political Battle Is Brewing Over Data Centers\\n\\n![Apple Is Pushing AI Into More of Its Products&-but Still Lacks a State-of-the-Art Model](https://media.wired.com/photos/684726c94c3cf40b5be20abf/3:2/w_1280%2Cc_limit/Apple-WWDC25-Apple-Intelligence-hero-250609.jpg)', 'score': 0.5786631}]\n"
     ]
    }
   ],
   "source": [
    "from langchain_community.tools.tavily_search import TavilySearchResults\n",
    "from dotenv import load_dotenv\n",
    "load_dotenv()\n",
    "import os\n",
    "\n",
    "os.environ[\"TAVILY_API_KEY\"] = os.getenv(\"TAVILY_API_KEY\")\n",
    "os.environ[\"GROQ_API_KEY\"] = os.getenv(\"GROQ_API_KEY\")\n",
    "\n",
    "tavily = TavilySearchResults()\n",
    "\n",
    "print(tavily.invoke(\"provide me the recent AI news\"))"
   ]
  },
  {
   "cell_type": "code",
   "execution_count": 3,
   "id": "ce96e784",
   "metadata": {},
   "outputs": [],
   "source": [
    "tools = [arxiv, wikipedia, tavily]"
   ]
  },
  {
   "cell_type": "code",
   "execution_count": 4,
   "id": "1ad1f0e9",
   "metadata": {},
   "outputs": [],
   "source": [
    "from langchain_groq import ChatGroq\n",
    "\n",
    "llm = ChatGroq(model = \"qwen-qwq-32b\")"
   ]
  },
  {
   "cell_type": "code",
   "execution_count": 5,
   "id": "bfa3bfe8",
   "metadata": {},
   "outputs": [
    {
     "data": {
      "text/plain": [
       "AIMessage(content=\"\\n<think>\\nOkay, the user is asking about the latest LLM model of Qwen. Let me start by recalling what I know about Qwen. Qwen is a series of large language models developed by Alibaba Cloud. The latest version as of my last update is Qwen2.\\n\\nFirst, I should confirm the current version. Wait, when was the last major update? I remember there was Qwen1, then Qwen1.5, Qwen2, and Qwen2.5. But I need to be precise. Let me think. The user might be looking for the most recent release, so maybe Qwen2.5 is the latest. But I should check if there's a more recent one beyond that.\\n\\nAlso, there's Qwen2.5 and Qwen2.5-Max. The Max version has a larger context length, right? So perhaps the latest is Qwen2.5-Max. But I should structure the answer by listing the versions in order, mentioning their features and improvements over previous versions.\\n\\nWait, the user might also be interested in the capabilities. I should highlight the improvements in reasoning, code generation, and multi-modal support. Also, the training data cutoff date is important. For example, Qwen2.5 was trained up to December 2023. That's current enough.\\n\\nI need to make sure I don't include outdated info. Let me outline the points:\\n\\n1. Current latest: Qwen2.5, with Qwen2.5-Max as the enhanced version.\\n2. Key features compared to previous models like Qwen2 and Qwen1.5.\\n3. Mention the training data cutoff to ensure users know the knowledge is up to that point.\\n4. Applications: reasoning, code, multi-modal, etc.\\n5. Maybe mention the Qwen family, like Qwen-Audio and Qwen-VL for specialized tasks.\\n\\nWait, the user specifically asked for the latest LLM model, so focusing on Qwen2.5 and its variants would be best. Also, perhaps note that as of the last update in 2023, but the user might need to check for updates beyond that. But since my training data is up until 2024-12, I should mention the most recent version as of that cutoff.\\n\\nI should also explain the differences between the versions. For instance, Qwen2 introduced more efficient training and better reasoning, while Qwen2.5 improved on those aspects further and added more specialized models like Qwen2.5-Max for longer context.\\n\\nAdditionally, highlighting the applications and use cases would be helpful for the user to understand where the model excels. Maybe also touch on the parameters and performance metrics if available, but I might not remember exact numbers.\\n\\nWait, the user might also want to know where to find more information or how to access the latest models. Suggesting the official Alibaba Cloud documentation or the Qwen website would be good. Also, mention that they can check the official sources for the very latest updates beyond what I know.\\n\\nI need to structure the answer clearly, maybe in bullet points for readability, but since the user might prefer a conversational response, I'll use paragraphs with clear headings for each point.\\n\\nLet me also verify if there's a Qwen2.5 vs. Qwen3 or something newer. But as of my knowledge cutoff, the latest is Qwen2.5. To avoid misinformation, I should stick to that unless sure there's a newer version.\\n\\nYes, I think that's accurate. So the answer should detail Qwen2.5 as the latest, its features, improvements, specialized models, and training data. That should answer the user's query comprehensively.\\n</think>\\n\\nAs of my last update in December 2024, the latest versions of the Qwen series are **Qwen2.5** and its specialized variant **Qwen2.5-Max**. Here's a detailed overview of these models and their key features:\\n\\n---\\n\\n### **1. Qwen2.5 (Latest Version)**\\n- **Released**: Trained up to late 2023 (training data cutoff December 2023).\\n- **Key Improvements**:\\n  - **Enhanced Reasoning and Logic**: Improved ability to handle complex, multi-step reasoning tasks.\\n  - **Code Generation**: Better performance in writing and understanding code across multiple programming languages.\\n  - **Multi-Modal Capabilities**: Supports text, images, and audio in some variants (e.g., Qwen-Audio, Qwen-VL).\\n  - **Efficiency**: Optimized for faster inference and lower computational costs compared to earlier versions.\\n- **Use Cases**: \\n  - General AI tasks (Q&A, writing, dialogue).\\n  - Professional applications like legal advice, medical QA, and customer service.\\n  - Code development and debugging.\\n\\n---\\n\\n### **2. Qwen2.5-Max (Advanced Variant)**\\n- **Special Features**:\\n  - **Extended Context Length**: Supports up to **32,768 tokens** (context length), making it ideal for long documents or complex interactions.\\n  - **High Performance**: Best suited for tasks requiring deep reasoning, long-form text generation, and specialized knowledge.\\n- **Applications**:\\n  - Large-scale document summarization.\\n  - Legal and technical document analysis.\\n  - Creative writing (novels, scripts, etc.).\\n\\n---\\n\\n### **Previous Iterations**\\n- **Qwen2**: Introduced in 2023, focused on improved training efficiency and broader domain knowledge.\\n- **Qwen1.5**: Enhanced code generation and multi-lingual support.\\n- **Qwen1.0**: Initial release with foundational capabilities.\\n\\n---\\n\\n### **Key Features of the Qwen Series**\\n- **Multi-Model Support**:\\n  - **Qwen-Audio**: Processes and generates audio content.\\n  - **Qwen-VL**: Combines text, images, and vision-language tasks (e.g., image captioning, visual reasoning).\\n- **Language Support**: Over 100 languages, including deep support for Chinese and English.\\n- **Customization**: Available for fine-tuning via Alibaba Cloud’s platform.\\n\\n---\\n\\n### **How to Access the Latest Models**\\n- **Platform**: Available on **Alibaba Cloud** (ModelScope, PAI Studio, or the Qwen API).\\n- **Documentation**: Check the [Qwen official website](https://qwen.aliyun.com/) or Alibaba Cloud’s documentation for the most up-to-date details.\\n\\n---\\n\\n### **Stay Updated**\\n- **Official Sources**: Follow Alibaba Cloud’s announcements or the Qwen GitHub repository for future updates (e.g., Qwen3 or new variants).\\n- **Performance Benchmarks**: Qwen2.5 consistently ranks among the top LLMs in benchmarks like MATH, C-Eval, and HellaSwag.\\n\\nLet me know if you need help with specific use cases or technical details! 😊\", additional_kwargs={}, response_metadata={'token_usage': {'completion_tokens': 1431, 'prompt_tokens': 17, 'total_tokens': 1448, 'completion_time': 3.557918985, 'prompt_time': 0.003409086, 'queue_time': 0.246622393, 'total_time': 3.561328071}, 'model_name': 'qwen-qwq-32b', 'system_fingerprint': 'fp_98b01f25b2', 'finish_reason': 'stop', 'logprobs': None}, id='run--2a0ce322-ed00-4510-8361-d718e7d9b08f-0', usage_metadata={'input_tokens': 17, 'output_tokens': 1431, 'total_tokens': 1448})"
      ]
     },
     "execution_count": 5,
     "metadata": {},
     "output_type": "execute_result"
    }
   ],
   "source": [
    "llm.invoke(\"latest llm model of qwen\")"
   ]
  },
  {
   "cell_type": "code",
   "execution_count": 6,
   "id": "f4644894",
   "metadata": {},
   "outputs": [],
   "source": [
    "llm_with_tools = llm.bind_tools(tools=tools)"
   ]
  },
  {
   "cell_type": "code",
   "execution_count": 7,
   "id": "b623a56d",
   "metadata": {},
   "outputs": [],
   "source": [
    "from typing_extensions import TypedDict\n",
    "from langchain_core.messages import AnyMessage\n",
    "from typing import Annotated\n",
    "from langgraph.graph.message import add_messages "
   ]
  },
  {
   "cell_type": "code",
   "execution_count": 8,
   "id": "cb106469",
   "metadata": {},
   "outputs": [],
   "source": [
    "class State(TypedDict):\n",
    "    messages: Annotated[list[AnyMessage] , add_messages] # add_messages will append all the messages to the messages varaible and return in the typed dict format, it will not over write \n",
    "    "
   ]
  },
  {
   "cell_type": "code",
   "execution_count": 9,
   "id": "db0ff5f9",
   "metadata": {},
   "outputs": [],
   "source": [
    "from IPython.display import Image, display\n",
    "from langgraph.graph import StateGraph, START , END\n",
    "from langgraph.prebuilt import ToolNode\n",
    "from langgraph.prebuilt import tools_condition"
   ]
  },
  {
   "cell_type": "code",
   "execution_count": 10,
   "id": "46f25d65",
   "metadata": {},
   "outputs": [
    {
     "data": {
      "text/plain": [
       "<langgraph.graph.state.StateGraph at 0x795659912930>"
      ]
     },
     "execution_count": 10,
     "metadata": {},
     "output_type": "execute_result"
    }
   ],
   "source": [
    "# Make sure cell 7 (State definition) is executed before running this cell\n",
    "\n",
    "def tool_calling_llm(state: State):\n",
    "    return {\"messages\": [llm_with_tools.invoke(state[\"messages\"])]}\n",
    "\n",
    "builder = StateGraph(State)\n",
    "builder.add_node(\"tool_calling_llm\", tool_calling_llm)\n",
    "builder.add_node(\"tools\", ToolNode(tools))"
   ]
  },
  {
   "cell_type": "code",
   "execution_count": 11,
   "id": "c0b99b36",
   "metadata": {},
   "outputs": [
    {
     "data": {
      "image/png": "[encoded data removed]",
      "text/plain": [
       "<IPython.core.display.Image object>"
      ]
     },
     "metadata": {},
     "output_type": "display_data"
    }
   ],
   "source": [
    "\n",
    "builder.add_edge(START, \"tool_calling_llm\")\n",
    "builder.add_conditional_edges(\n",
    "    \"tool_calling_llm\",\n",
    "    tools_condition)\n",
    "builder.add_edge(\"tools\", END)\n",
    "\n",
    "graph = builder.compile()\n",
    "\n",
    "display(Image(graph.get_graph().draw_mermaid_png()))"
   ]
  },
  {
   "cell_type": "code",
   "execution_count": 12,
   "id": "33636aa0",
   "metadata": {},
   "outputs": [
    {
     "name": "stdout",
     "output_type": "stream",
     "text": [
      "================================\u001b[1m Human Message \u001b[0m=================================\n",
      "\n",
      "1760.0354\n",
      "==================================\u001b[1m Ai Message \u001b[0m==================================\n",
      "Tool Calls:\n",
      "  tavily_search_results_json (6ja7vxg79)\n",
      " Call ID: 6ja7vxg79\n",
      "  Args:\n",
      "    query: 1760.0354\n",
      "=================================\u001b[1m Tool Message \u001b[0m=================================\n",
      "Name: tavily_search_results_json\n",
      "\n",
      "[{\"title\": \"Offline Learning for Sequence-Based Selection Hyper-Heuristics\", \"url\": \"https://search.proquest.com/openview/c8f25dacb34259b9a57e90baa02be1d4/1?pq-origsite=gscholar&cbl=51922&diss=y\", \"content\": \"> Prob. SSHH SD T-SSHH SD\\n> TRN 357.4068 16.9400 361.0980 18.6944\\n> TLN 87.2512 2.6345 87.9132 2.4008\\n> BAK 179.0267 0.9965 179.2223 1.4257\\n> NYT 8116.0158 536.2183 8169.6525 645.3373\\n> BLA 22.2911 1.2971 22.5268 2.4840\\n> HAN 1286.6305 37.4569 1294.9970 42.7782\\n> GOY 33.3999 0.1606 33.3900 0.0628\\n> FOS 4.2449 0.6641 4.4674 0.9202\\n> PES 401.5132 31.3177 409.5692 50.8569\\n> MOD 555.0569 27.6637 564.3754 100.4345\\n> BIN 494.2631 65.7123 537.6853 115.3677\\n> EXN 4789.5943 402.1191 4738.0677 810.7313 [...] using the subsequence sets TOP-GC , SINGLE , RAND and BOT-GC . The statistics are calculated over 1600 runs. \\n\\nαf Percent % Min. Sel. Obj. Eval. Min. T Total T  \\n\\n> DBGen\\n\\n-0.6243 -49.0924 92.8738 93.8513 24873 43998  \\n\\n> SSHH\\n\\n-0.6934 -55.4024 111.8219 55.7438 36824 51643  \\n\\n> TOP-GC\\n\\n-0.6868 -53.0720 110.5556 39.1931 40241 58633  \\n\\n> SINGLE\\n\\n-0.6643 -52.9842 107.0994 107.0994 18608 30507  \\n\\n> RAND\\n\\n-0.6328 -51.5645 108.1688 40.3231 20781 30931  \\n\\n> BOT-GC [...] > Prob. SSHH SD T-SSHH-L SD\\n> TRN 357.4068 16.9400 355.4825 14.4080\\n> TLN 87.2512 2.6345 86.7689 2.4960\\n> BAK 179.0267 0.9965 178.8902 0.9436\\n> NYT 8116.0158 536.2183 7985.0690 448.5106\\n> BLA 22.2911 1.2971 22.0291 1.1858\\n> HAN 1286.6305 37.4569 1279.6965 36.1578\\n> GOY 33.3999 0.1606 33.3729 0.0081\\n> FOS 4.2449 0.6641 4.1938 0.6468\\n> PES 401.5132 31.3177 393.3359 27.0505\\n> MOD 555.0569 27.6637 545.1349 24.2674\\n> BIN 494.2631 65.7123 474.7110 34.7078\\n> EXN 4789.5943 402.1191 4667.1560 272.0995\", \"score\": 0.13641296}]\n"
     ]
    }
   ],
   "source": [
    "messages = graph.invoke({\"messages\":\"1760.0354\"})\n",
    "for m in messages[\"messages\"]:\n",
    "    m.pretty_print()"
   ]
  },
  {
   "cell_type": "code",
   "execution_count": 13,
   "id": "75d2501a",
   "metadata": {},
   "outputs": [
    {
     "name": "stdout",
     "output_type": "stream",
     "text": [
      "================================\u001b[1m Human Message \u001b[0m=================================\n",
      "\n",
      "Hi, I am deepak\n",
      "==================================\u001b[1m Ai Message \u001b[0m==================================\n",
      "\n",
      "Hello Deepak! Nice to meet you. How can I assist you today? Feel free to ask about anything—whether you need information, help with a task, or just want to chat!\n"
     ]
    }
   ],
   "source": [
    "messages = graph.invoke({\"messages\":\"Hi, I am deepak\"})\n",
    "for m in messages[\"messages\"]:\n",
    "    m.pretty_print()"
   ]
  }
 ],
 "metadata": {
  "kernelspec": {
   "display_name": "venv",
   "language": "python",
   "name": "python3"
  },
  "language_info": {
   "codemirror_mode": {
    "name": "ipython",
    "version": 3
   },
   "file_extension": ".py",
   "mimetype": "text/x-python",
   "name": "python",
   "nbconvert_exporter": "python",
   "pygments_lexer": "ipython3",
   "version": "3.12.3"
  }
 },
 "nbformat": 4,
 "nbformat_minor": 5
}
