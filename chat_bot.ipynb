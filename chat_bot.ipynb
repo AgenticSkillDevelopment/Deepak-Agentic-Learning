{
 "cells": [
  {
   "cell_type": "code",
   "execution_count": 16,
   "id": "8ae9ea72",
   "metadata": {},
   "outputs": [
    {
     "name": "stdout",
     "output_type": "stream",
     "text": [
      "Published: 2022-08-01\n",
      "Title: The Rise of Quantum Internet Computing\n",
      "Authors: Seng W. Loke\n",
      "Summary: This article highlights quantum Internet computing as referring to\n",
      "distributed quantum computing over the quantum Internet, analogous to\n",
      "(classical) Internet computing involving (classical) distributed computing over\n",
      "the (classical) Internet. Relevant to quantum Internet computing would be areas\n",
      "of study such as quantum protocols for distributed nodes using quantum\n",
      "information for computations, quantum cloud computing, delegated verifiable\n",
      "blind or private computing, non-local gates, and distributed quantum\n",
      "applications, over Internet-scale distances.\n",
      "\n",
      "Published: 2000-03-31\n",
      "Title: Unconventional Quantum Computing Devices\n",
      "Authors: Seth Lloyd\n",
      "Summary: This paper investigates a variety of unconventional quantum computation\n",
      "devices, including fermionic quantum computers and computers that exploit\n",
      "nonlinear quantum mechanics. It is shown that unconventional quantum computing\n",
      "devices can in pri\n",
      "Page: Quantum computing\n",
      "Summary: A quantum computer is a computer that exploits quantum mechanical phenomena. On small scales, physical matter exhibits properties of both particles and waves, and quantum computing takes advantage of this behavior using specialized hardware. Classical physics cannot explain the operation of these quantum devices, and a scalable quantum computer could perform some calculations exponentially faster than any modern \"classical\" computer. Theoretically a large-scale quantum computer could break some widely used encryption schemes and aid physicists in performing phy\n"
     ]
    }
   ],
   "source": [
    "from langchain_community.tools import ArxivQueryRun, WikipediaQueryRun\n",
    "from langchain_community.utilities import ArxivAPIWrapper, WikipediaAPIWrapper\n",
    "\n",
    "# Creating Tools\n",
    "api_wrapper_arxiv = ArxivAPIWrapper(top_k_results=2, doc_content_chars_max=1000)\n",
    "arxiv =  ArxivQueryRun(api_wrapper=api_wrapper_arxiv, description=\"Search for academic papers on arXiv.org\")\n",
    "\n",
    "api_wrapper_wikipedia = WikipediaAPIWrapper(top_k_results=2, doc_content_chars_max=600)\n",
    "wikipedia = WikipediaQueryRun(api_wrapper=api_wrapper_wikipedia, description=\"Search for articles on Wikipedia.org\")\n",
    "\n",
    "print(arxiv.invoke(\"Quantum Computing\"))\n",
    "print(wikipedia.invoke(\"Quantum Computing\"))"
   ]
  },
  {
   "cell_type": "code",
   "execution_count": 4,
   "id": "7be4633d",
   "metadata": {},
   "outputs": [
    {
     "name": "stderr",
     "output_type": "stream",
     "text": [
      "/tmp/ipykernel_37443/1365296032.py:9: LangChainDeprecationWarning: The class `TavilySearchResults` was deprecated in LangChain 0.3.25 and will be removed in 1.0. An updated version of the class exists in the :class:`~langchain-tavily package and should be used instead. To use it run `pip install -U :class:`~langchain-tavily` and import as `from :class:`~langchain_tavily import TavilySearch``.\n",
      "  tavily = TavilySearchResults()\n"
     ]
    },
    {
     "name": "stdout",
     "output_type": "stream",
     "text": [
      "[{'title': 'AI News & Artificial Intelligence - TechCrunch', 'url': 'https://techcrunch.com/category/artificial-intelligence/', 'content': '### [The US Navy is more aggressively telling startups, ‘We want you’](https://techcrunch.com/2025/06/15/the-u-s-navy-is-more-aggressively-telling-startups-we-want-you/)\\n\\n[The US Navy is more aggressively telling startups, ‘We want you’](https://techcrunch.com/2025/06/15/the-u-s-navy-is-more-aggressively-telling-startups-we-want-you/)\\n\\n### [Google reportedly plans to cut ties with Scale AI](https://techcrunch.com/2025/06/14/google-reportedly-plans-to-cut-ties-with-scale-ai/) [...] ### [Pope Leo makes AI’s threat to humanity a signature issue](https://techcrunch.com/2025/06/18/pope-leo-makes-ais-threat-to-humanity-a-signature-issue/)\\n\\n![Cluely founder Roy Lee party invitation video](https://techcrunch.com/wp-content/uploads/2025/06/Cluely-party-video.png?w=583)\\n\\n### [Police shut down Cluely’s party, the ‘cheat at everything’ startup](https://techcrunch.com/2025/06/17/police-shut-down-cluelys-party-the-cheat-at-everything-startup/) [...] ### [Sequoia-backed Crosby launches a new kind of AI-powered law firm](https://techcrunch.com/2025/06/17/sequoia-backed-crosby-launches-a-new-kind-of-ai-powered-law-firm/)\\n\\n![Microsoft CEO Satya Nadella speaks during the OpenAI DevDay event on November 06, 2023 in San Francisco, California.](https://techcrunch.com/wp-content/uploads/2023/11/GettyImages-1778706501.jpg?w=666)', 'score': 0.6364215}, {'title': 'AI News | Latest AI News, Analysis & Events', 'url': 'https://www.artificialintelligence-news.com/', 'content': 'AI News reports on the latest artificial intelligence news and insights. Explore industry trends from the frontline of AI.', 'score': 0.61779}, {'title': 'Artificial Intelligence - Latest AI News and Analysis - WSJ.com', 'url': 'https://www.wsj.com/tech/ai?gaa_at=eafs&gaa_n=ASWzDAhzv1ESArPInpuqaXmGUWKrCZuBEWCVAQDWMbpSfcrHR2EkX67sdku3&gaa_ts=6853b0de&gaa_sig=vFISeMcZ83zrP2nacu2g3TMc1cIrvGeLopga-5kiLgdQQF5JmDfo11kIpXFUNZL2fcbntFxx2EKBTfhE1S3_WQ%3D%3D', 'content': 'The latest artificial intelligence news coverage focusing on the technology, tools and the companies building AI technology.', 'score': 0.604703}, {'title': 'Artificial Intelligence | Latest News, Photos & Videos - WIRED', 'url': 'https://www.wired.com/tag/artificial-intelligence/', 'content': '### Facing a Changing Industry, AI Activists Rethink Their Strategy\\n\\n![Demis Hassabis Embraces the Future of Work in the Age of AI](https://media.wired.com/photos/683e039d7fcbfb59910b6706/3:2/w_1280%2Cc_limit/DSC09515.jpg)\\n\\n### Demis Hassabis Embraces the Future of Work in the Age of AI\\n\\n### Deepfake Scams Are Distorting Reality Itself\\n\\n![The Rise of ‘Vibe Hacking’ Is the Next AI Nightmare](https://media.wired.com/photos/683dde00bb81c8212495c31b/3:2/w_1280%2Cc_limit/WIRED%2520STILL%252002.png) [...] ### AI Chatbots Are Making LA Protest Disinformation Worse\\n\\n![A Political Battle Is Brewing Over Data Centers](https://media.wired.com/photos/684036ef4c253f09088b983a/3:2/w_1280%2Cc_limit/GettyImages-2213382270.jpg)\\n\\n### A Political Battle Is Brewing Over Data Centers\\n\\n![Apple Is Pushing AI Into More of Its Products&-but Still Lacks a State-of-the-Art Model](https://media.wired.com/photos/684726c94c3cf40b5be20abf/3:2/w_1280%2Cc_limit/Apple-WWDC25-Apple-Intelligence-hero-250609.jpg)', 'score': 0.5786631}, {'title': 'Artificial Intelligence - The New York Times', 'url': 'https://www.nytimes.com/spotlight/artificial-intelligence', 'content': 'A.I. has yet to upend Hollywood. But it is starting to make big inroads in animation.\\n\\n\\xa0By Brooks Barnes\\n\\n![](https://static01.nyt.com/images/2025/04/14/14visualUploader-75672-cover/14visualUploader-75672-cover-square640-v2.jpg?auto=webp)\\n\\n[Google Unveils A.I. Chatbot, Signaling a New Era for Search](/2025/05/20/technology/personaltech/google-ai-mode-search.html)\\n\\nThe tech giant is taking its next big step in artificial intelligence by adding interactive capabilities to its flagship product. [...] By Tripp Mickle\\n\\n![Sundar Pichai, the chief executive of Google, spoke on Tuesday about the company’s plans to bring more generative A.I. abilities to its flagship search product during its annual developers conference. ](https://static01.nyt.com/images/2025/05/20/multimedia/20biz-google-sundar-lbtm/20biz-google-sundar-lbtm-square640.jpg?auto=webp)\\n\\n[A New App Uses A.I. to Speed Jewelry Design](/2025/05/20/fashion/jewelry-blng-artificial-intelligence-app.html) [...] ![Mark Zuckerberg’s new A.I. lab aims to hire some of the top A.I. researchers in the world.](https://static01.nyt.com/images/2025/06/12/multimedia/00biz-superintelligence-ljkv/00biz-superintelligence-ljkv-smallSquare252.jpg?auto=webp)\\n\\n### [This A.I. Company Wants to Take Your Job](/2025/06/11/technology/ai-mechanize-jobs.html)\\n\\nMechanize, a San Francisco start-up, is building artificial intelligence tools to automate white-collar jobs “as fast as possible.”\\n\\n\\xa0By Kevin Roose', 'score': 0.5585443}]\n"
     ]
    }
   ],
   "source": [
    "from langchain_community.tools.tavily_search import TavilySearchResults\n",
    "from dotenv import load_dotenv\n",
    "load_dotenv()\n",
    "import os\n",
    "\n",
    "os.environ[\"TAVILY_API_KEY\"] = os.getenv(\"TAVILY_API_KEY\")\n",
    "os.environ[\"GROQ_API_KEY\"] = os.getenv(\"GROQ_API_KEY\")\n",
    "\n",
    "tavily = TavilySearchResults()\n",
    "\n",
    "print(tavily.invoke(\"provide me the recent AI news\"))"
   ]
  },
  {
   "cell_type": "code",
   "execution_count": 5,
   "id": "ce96e784",
   "metadata": {},
   "outputs": [],
   "source": [
    "tools = [arxiv, wikipedia, tavily]"
   ]
  },
  {
   "cell_type": "code",
   "execution_count": 6,
   "id": "1ad1f0e9",
   "metadata": {},
   "outputs": [],
   "source": [
    "from langchain_groq import ChatGroq\n",
    "\n",
    "llm = ChatGroq(model = \"qwen-qwq-32b\")"
   ]
  },
  {
   "cell_type": "code",
   "execution_count": 7,
   "id": "bfa3bfe8",
   "metadata": {},
   "outputs": [
    {
     "data": {
      "text/plain": [
       "AIMessage(content='\\n<think>\\nOkay, the user is asking about the latest LLM model of Qwen. Let me start by recalling the information I have. Qwen is the large language model developed by Alibaba Cloud. The latest version I know is Qwen2, but I should verify the exact details. I remember that Qwen2 was released in late 2023, and it introduced some significant improvements. Let me think about its features. It has a much larger parameter count, like over 100 trillion parameters, which is a big jump from previous versions. \\n\\nWait, the user might also be interested in the specific capabilities. Qwen2 is optimized for various tasks, so maybe I should mention that it handles code, reasoning, and natural language better than before. Also, I should note any new features, such as the ability to handle multi-step tasks or improved contextual understanding. \\n\\nBut I need to make sure I don\\'t mix up Qwen2 with Qwen1.5 or Qwen-Max. Let me check the key points again. Qwen2 was indeed the latest as of December 2023, and it\\'s designed to be more efficient and powerful. The parameter count is a key point, so that\\'s important to highlight. \\n\\nAlso, there\\'s Qwen-Audio, which is specialized for audio tasks, so maybe the user might want to know about that as well. But since they specifically asked for the latest LLM model, I should focus on the main Qwen2. \\n\\nI should structure the answer by first stating the latest version, then detailing its key features, parameters, capabilities, and any performance improvements. It\\'s also good to mention where it can be accessed, like Alibaba Cloud\\'s platform. \\n\\nWait, do I have the exact release date? I think it was December 2023, but maybe I should phrase it as \"released in late 2023\" to be safe. Also, emphasizing the applications like code generation, reasoning, and multi-modal tasks would be helpful. \\n\\nHmm, should I mention any limitations or is that not necessary here? The user is asking about the latest, so probably just the positives. Also, make sure to highlight how it\\'s an improvement over previous versions, like Qwen1.5 or Qwen-Max. \\n\\nI should also check if there\\'s a newer version than Qwen2 that I might have missed. Let me think... As of now, up to December 2023, Qwen2 is the latest. Unless there\\'s a Qwen3, but I don\\'t recall any information about that yet. So I\\'ll stick with Qwen2 as the latest. \\n\\nAlso, make sure to mention that Qwen2 can be accessed via Alibaba Cloud\\'s products and services. Maybe include an example like the Qwen API or the Qwen Studio. \\n\\nOkay, putting it all together: start with the model name and release date, then parameters, key features, capabilities, and where to access it. Keep it concise but informative.\\n</think>\\n\\nThe latest version of the Qwen LLM (Large Language Model) is **Qwen2**, released in late 2023. Here\\'s an overview of its key features and improvements:\\n\\n---\\n\\n### **Key Features of Qwen2**\\n1. **Massive Parameters**:\\n   - **100+ Trillion Parameters**: A significant increase from its predecessors, enabling more sophisticated reasoning and understanding.\\n\\n2. **Advanced Capabilities**:\\n   - **Code Generation**: Enhanced support for writing, debugging, and optimizing code across multiple programming languages.\\n   - **Multilingual Support**: Improved fluency in over 100 languages, with better contextual understanding.\\n   - **Multimodal Reasoning**: Capable of handling mixed-media inputs (text, images, audio) and generating contextually relevant outputs.\\n   - **Long-Text Reasoning**: Processes and generates long, coherent documents and narratives.\\n\\n3. **Performance Improvements**:\\n   - **Faster Inference**: Optimized for real-time interactions, reducing latency in applications like chatbots and virtual assistants.\\n   - **Cost Efficiency**: Better resource utilization compared to earlier versions.\\n\\n4. **Specialized Models**:\\n   - **Qwen-Audio**: A variant optimized for audio tasks (e.g., speech recognition, audio analysis).\\n   - **Qwen-VL**: Enhanced visual-language integration for image understanding and generation.\\n\\n---\\n\\n### **Applications**\\n- **Enterprise Solutions**: Used in Alibaba Cloud\\'s products like **Qwen Studio** for custom LLM development.\\n- **Research**: Available for researchers through Alibaba\\'s platforms for testing and optimization.\\n- **Consumer Use**: Powers tools like **Qwen Chat** (web and mobile apps) for instant, human-like interactions.\\n\\n---\\n\\n### **How to Access Qwen2**\\n- **Alibaba Cloud Platform**: Deploy via the **Qwen API** or integrate it into custom applications using their developer tools.\\n- **Qwen Studio**: Build and fine-tune models tailored to specific needs.\\n- **Public Demos**: Test Qwen2\\'s capabilities through official web interfaces or apps.\\n\\n---\\n\\n### **Why It Matters**\\nQwen2 represents a major leap in **general-purpose AI**, offering:\\n- Superior contextual understanding.\\n- Enhanced safety and ethical alignment.\\n- Scalability for enterprise and consumer use cases.\\n\\nFor the most up-to-date information, visit [Qwen\\'s official website](https://qwen.aliyun.com/) or Alibaba Cloud\\'s documentation.\\n\\nLet me know if you\\'d like details about specific use cases or technical specifications!', additional_kwargs={}, response_metadata={'token_usage': {'completion_tokens': 1137, 'prompt_tokens': 17, 'total_tokens': 1154, 'completion_time': 2.7914831700000002, 'prompt_time': 0.003235417, 'queue_time': 0.244532923, 'total_time': 2.794718587}, 'model_name': 'qwen-qwq-32b', 'system_fingerprint': 'fp_98b01f25b2', 'finish_reason': 'stop', 'logprobs': None}, id='run--ebaf6093-2ee8-493e-8578-6faf1a6087c0-0', usage_metadata={'input_tokens': 17, 'output_tokens': 1137, 'total_tokens': 1154})"
      ]
     },
     "execution_count": 7,
     "metadata": {},
     "output_type": "execute_result"
    }
   ],
   "source": [
    "llm.invoke(\"latest llm model of qwen\")"
   ]
  },
  {
   "cell_type": "code",
   "execution_count": 8,
   "id": "f4644894",
   "metadata": {},
   "outputs": [],
   "source": [
    "llm_with_tools = llm.bind_tools(tools=tools)"
   ]
  },
  {
   "cell_type": "code",
   "execution_count": 9,
   "id": "b623a56d",
   "metadata": {},
   "outputs": [],
   "source": [
    "from typing_extensions import TypedDict\n",
    "from langchain_core.messages import AnyMessage\n",
    "from typing import Annotated\n",
    "from langgraph.graph.message import add_messages "
   ]
  },
  {
   "cell_type": "code",
   "execution_count": 10,
   "id": "cb106469",
   "metadata": {},
   "outputs": [],
   "source": [
    "class State(TypedDict):\n",
    "    messages: Annotated[list[AnyMessage] , add_messages] # add_messages will append all the messages to the messages varaible and return in the typed dict format, it will not over write \n",
    "    "
   ]
  },
  {
   "cell_type": "code",
   "execution_count": 11,
   "id": "db0ff5f9",
   "metadata": {},
   "outputs": [],
   "source": [
    "from IPython.display import Image, display\n",
    "from langgraph.graph import StateGraph, START , END\n",
    "from langgraph.prebuilt import ToolNode\n",
    "from langgraph.prebuilt import tools_condition"
   ]
  },
  {
   "cell_type": "code",
   "execution_count": 12,
   "id": "46f25d65",
   "metadata": {},
   "outputs": [
    {
     "data": {
      "text/plain": [
       "<langgraph.graph.state.StateGraph at 0x77cf60d7d880>"
      ]
     },
     "execution_count": 12,
     "metadata": {},
     "output_type": "execute_result"
    }
   ],
   "source": [
    "# Make sure cell 7 (State definition) is executed before running this cell\n",
    "\n",
    "def tool_calling_llm(state: State):\n",
    "    return {\"messages\": [llm_with_tools.invoke(state[\"messages\"])]}\n",
    "\n",
    "builder = StateGraph(State)\n",
    "builder.add_node(\"tool_calling_llm\", tool_calling_llm)\n",
    "builder.add_node(\"tools\", ToolNode(tools))"
   ]
  },
  {
   "cell_type": "code",
   "execution_count": 13,
   "id": "c0b99b36",
   "metadata": {},
   "outputs": [
    {
     "data": {
      "image/png": "[encoded data removed]",
      "text/plain": [
       "<IPython.core.display.Image object>"
      ]
     },
     "metadata": {},
     "output_type": "display_data"
    }
   ],
   "source": [
    "\n",
    "builder.add_edge(START, \"tool_calling_llm\")\n",
    "builder.add_conditional_edges(\n",
    "    \"tool_calling_llm\",\n",
    "    tools_condition)\n",
    "builder.add_edge(\"tools\", END)\n",
    "\n",
    "graph = builder.compile()\n",
    "\n",
    "display(Image(graph.get_graph().draw_mermaid_png()))"
   ]
  },
  {
   "cell_type": "code",
   "execution_count": 14,
   "id": "33636aa0",
   "metadata": {},
   "outputs": [
    {
     "name": "stdout",
     "output_type": "stream",
     "text": [
      "================================\u001b[1m Human Message \u001b[0m=================================\n",
      "\n",
      "1760.0354\n",
      "==================================\u001b[1m Ai Message \u001b[0m==================================\n",
      "Tool Calls:\n",
      "  tavily_search_results_json (7365q194d)\n",
      " Call ID: 7365q194d\n",
      "  Args:\n",
      "    query: What location corresponds to coordinate 1760.0354?\n",
      "=================================\u001b[1m Tool Message \u001b[0m=================================\n",
      "Name: tavily_search_results_json\n",
      "\n",
      "[{\"title\": \"Offline Learning for Sequence-Based Selection Hyper-Heuristics\", \"url\": \"https://search.proquest.com/openview/c8f25dacb34259b9a57e90baa02be1d4/1?pq-origsite=gscholar&cbl=51922&diss=y\", \"content\": \"This thesis presents a novel statistical framework for the offline learning of subsequences of low level heuristics in order to improve the optimisation\", \"score\": 0.005188285}]\n"
     ]
    }
   ],
   "source": [
    "messages = graph.invoke({\"messages\":\"1760.0354\"})\n",
    "for m in messages[\"messages\"]:\n",
    "    m.pretty_print()"
   ]
  },
  {
   "cell_type": "code",
   "execution_count": 15,
   "id": "75d2501a",
   "metadata": {},
   "outputs": [
    {
     "name": "stdout",
     "output_type": "stream",
     "text": [
      "================================\u001b[1m Human Message \u001b[0m=================================\n",
      "\n",
      "Hi, I am deepak\n",
      "==================================\u001b[1m Ai Message \u001b[0m==================================\n",
      "\n",
      "Hello Deepak! Nice to meet you. How can I assist you today? Let me know if you have any questions or need help with anything! 😊\n"
     ]
    }
   ],
   "source": [
    "messages = graph.invoke({\"messages\":\"Hi, I am deepak\"})\n",
    "for m in messages[\"messages\"]:\n",
    "    m.pretty_print()"
   ]
  }
 ],
 "metadata": {
  "kernelspec": {
   "display_name": "venv",
   "language": "python",
   "name": "python3"
  },
  "language_info": {
   "codemirror_mode": {
    "name": "ipython",
    "version": 3
   },
   "file_extension": ".py",
   "mimetype": "text/x-python",
   "name": "python",
   "nbconvert_exporter": "python",
   "pygments_lexer": "ipython3",
   "version": "3.12.3"
  }
 },
 "nbformat": 4,
 "nbformat_minor": 5
}
