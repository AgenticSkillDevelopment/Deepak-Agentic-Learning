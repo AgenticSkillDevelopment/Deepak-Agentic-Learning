{
 "cells": [
  {
   "cell_type": "code",
   "execution_count": null,
   "id": "ce510025",
   "metadata": {},
   "outputs": [
    {
     "ename": "",
     "evalue": "",
     "output_type": "error",
     "traceback": [
      "\u001b[1;31mRunning cells with 'Python 3.12.3' requires the ipykernel package.\n",
      "\u001b[1;31mRun the following command to install 'ipykernel' into the Python environment. \n",
      "\u001b[1;31mCommand: '/bin/python3 -m pip install ipykernel -U --user --force-reinstall'"
     ]
    }
   ],
   "source": [
    "from typing_extensions import TypedDict\n",
    "import random\n",
    "from typing import Literal\n",
    "from IPython.display import display, Image\n",
    "from langgraph.graph import StateGraph, START , END\n",
    "\n",
    "class State(TypedDict):\n",
    "    graph_info: str\n",
    "\n",
    "def start_play(state: State):\n",
    "    print(\"Starting the game with state\")\n",
    "    return {\"graph_info\": state['graph_info']}\n",
    "\n",
    "def cricket(state: State):\n",
    "    print(\"Cricket node has been called\")\n",
    "    return {\"graph_info\": state['graph_info'] + \"cricket\"}\n",
    "\n",
    "def badminton(state: State):\n",
    "    print(\"Badminton node has been called\")\n",
    "    return {\"graph_info\": state['graph_info'] + \"Badminton\"}\n",
    "\n",
    "def random_play(state: State) -> Literal['cricket', 'badminton']:\n",
    "    if random.choice() > 0.5:\n",
    "        return \"cricket\"\n",
    "    else:\n",
    "        return \"badminton\"\n",
    "    \n",
    "#build graph\n",
    "graph = StateGraph(State)\n",
    "\n",
    "# Add nodes to the graph\n",
    "graph.add_node(\"start_play\", start_play)\n",
    "graph.add_node(\"cricket\", cricket)\n",
    "graph.add_node(\"badminton\", badminton)\n",
    "\n",
    "#scheduling the flow of the graph\n",
    "graph.add_edge(START, \"start_play\")\n",
    "graph.add_conditional_edges(\"start_play\", random_play)\n",
    "graph.add_edge(\"cricket\", END)\n",
    "graph.add_edge(\"badminton\", END)\n",
    "\n",
    "#compiling the graph\n",
    "compiled_graph = graph.compile()\n",
    "\n",
    "display(Image(compiled_graph.get_graph().draw_mermaid_png()))"
   ]
  }
 ],
 "metadata": {
  "kernelspec": {
   "display_name": "venv",
   "language": "python",
   "name": "python3"
  },
  "language_info": {
   "codemirror_mode": {
    "name": "ipython",
    "version": 3
   },
   "file_extension": ".py",
   "mimetype": "text/x-python",
   "name": "python",
   "nbconvert_exporter": "python",
   "pygments_lexer": "ipython3",
   "version": "3.12.3"
  }
 },
 "nbformat": 4,
 "nbformat_minor": 5
}
